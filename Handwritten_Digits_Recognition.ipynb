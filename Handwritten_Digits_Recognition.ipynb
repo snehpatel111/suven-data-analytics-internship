{
  "nbformat": 4,
  "nbformat_minor": 0,
  "metadata": {
    "colab": {
      "name": "Handwritten Digits Recognition.ipynb",
      "provenance": [],
      "collapsed_sections": []
    },
    "kernelspec": {
      "name": "python3",
      "display_name": "Python 3"
    },
    "language_info": {
      "name": "python"
    }
  },
  "cells": [
    {
      "cell_type": "code",
      "metadata": {
        "colab": {
          "base_uri": "https://localhost:8080/"
        },
        "id": "UAH6fKFioBDG",
        "outputId": "f4693563-0d9b-4a67-b116-616996059e22"
      },
      "source": [
        "from sklearn.datasets import load_digits\n",
        "digits = load_digits()\n",
        "print(digits.DESCR)"
      ],
      "execution_count": null,
      "outputs": [
        {
          "output_type": "stream",
          "text": [
            ".. _digits_dataset:\n",
            "\n",
            "Optical recognition of handwritten digits dataset\n",
            "--------------------------------------------------\n",
            "\n",
            "**Data Set Characteristics:**\n",
            "\n",
            "    :Number of Instances: 5620\n",
            "    :Number of Attributes: 64\n",
            "    :Attribute Information: 8x8 image of integer pixels in the range 0..16.\n",
            "    :Missing Attribute Values: None\n",
            "    :Creator: E. Alpaydin (alpaydin '@' boun.edu.tr)\n",
            "    :Date: July; 1998\n",
            "\n",
            "This is a copy of the test set of the UCI ML hand-written digits datasets\n",
            "https://archive.ics.uci.edu/ml/datasets/Optical+Recognition+of+Handwritten+Digits\n",
            "\n",
            "The data set contains images of hand-written digits: 10 classes where\n",
            "each class refers to a digit.\n",
            "\n",
            "Preprocessing programs made available by NIST were used to extract\n",
            "normalized bitmaps of handwritten digits from a preprinted form. From a\n",
            "total of 43 people, 30 contributed to the training set and different 13\n",
            "to the test set. 32x32 bitmaps are divided into nonoverlapping blocks of\n",
            "4x4 and the number of on pixels are counted in each block. This generates\n",
            "an input matrix of 8x8 where each element is an integer in the range\n",
            "0..16. This reduces dimensionality and gives invariance to small\n",
            "distortions.\n",
            "\n",
            "For info on NIST preprocessing routines, see M. D. Garris, J. L. Blue, G.\n",
            "T. Candela, D. L. Dimmick, J. Geist, P. J. Grother, S. A. Janet, and C.\n",
            "L. Wilson, NIST Form-Based Handprint Recognition System, NISTIR 5469,\n",
            "1994.\n",
            "\n",
            ".. topic:: References\n",
            "\n",
            "  - C. Kaynak (1995) Methods of Combining Multiple Classifiers and Their\n",
            "    Applications to Handwritten Digit Recognition, MSc Thesis, Institute of\n",
            "    Graduate Studies in Science and Engineering, Bogazici University.\n",
            "  - E. Alpaydin, C. Kaynak (1998) Cascading Classifiers, Kybernetika.\n",
            "  - Ken Tang and Ponnuthurai N. Suganthan and Xi Yao and A. Kai Qin.\n",
            "    Linear dimensionalityreduction using relevance weighted LDA. School of\n",
            "    Electrical and Electronic Engineering Nanyang Technological University.\n",
            "    2005.\n",
            "  - Claudio Gentile. A New Approximate Maximal Margin Classification\n",
            "    Algorithm. NIPS. 2000.\n"
          ],
          "name": "stdout"
        }
      ]
    },
    {
      "cell_type": "code",
      "metadata": {
        "colab": {
          "base_uri": "https://localhost:8080/",
          "height": 168
        },
        "id": "lDgiIlEYoUme",
        "outputId": "c14751b7-8172-4a03-edb5-0baf7b733231"
      },
      "source": [
        "import matplotlib.pyplot as plt \n",
        "_, axes = plt.subplots(nrows=1, ncols=4, figsize=(10, 3))\n",
        "for ax, image, label in zip(axes, digits.images, digits.target):\n",
        "    ax.set_axis_off()\n",
        "    ax.imshow(image, cmap=plt.cm.gray_r, interpolation='nearest')\n",
        "    ax.set_title('Training: %i' % label)"
      ],
      "execution_count": null,
      "outputs": [
        {
          "output_type": "display_data",
          "data": {
            "image/png": "[encoded data removed]",
            "text/plain": [
              "<Figure size 720x216 with 4 Axes>"
            ]
          },
          "metadata": {
            "tags": [],
            "needs_background": "light"
          }
        }
      ]
    },
    {
      "cell_type": "markdown",
      "metadata": {
        "id": "aDqxGNLxq54P"
      },
      "source": [
        "# Importing Relevant Libraries & Modules\n",
        "\n",
        "Once our dataset is loaded, we will start the coding by importing the train_test_split and performance metrics."
      ]
    },
    {
      "cell_type": "code",
      "metadata": {
        "id": "naorWsnuoa8T"
      },
      "source": [
        "from sklearn import metrics\n",
        "from sklearn.metrics import accuracy_score\n",
        "from sklearn.model_selection import train_test_split"
      ],
      "execution_count": null,
      "outputs": []
    },
    {
      "cell_type": "markdown",
      "metadata": {
        "id": "oeJlVylhq9Bu"
      },
      "source": [
        "# Preparing Data\n",
        "Next, we will prepare the data for training by declaring a NumPy array data and reshaping it so that it has the first dimension equal to the length of the images, which is the number of samples, n_samples, but with reduced dimensionality. So the dimension of data will be 1797 x 64."
      ]
    },
    {
      "cell_type": "code",
      "metadata": {
        "id": "DtE5jvJrq0Nm"
      },
      "source": [
        "n_samples = len(digits.images)\n",
        "data = digits.images.reshape((n_samples, -1))"
      ],
      "execution_count": null,
      "outputs": []
    },
    {
      "cell_type": "markdown",
      "metadata": {
        "id": "x3yiD_xprH8i"
      },
      "source": [
        "# Splitting Data into Train and Test\n",
        "The next step is to use the train_test_split function to split our data into 50% training and 50% testing data."
      ]
    },
    {
      "cell_type": "code",
      "metadata": {
        "id": "fOxNfAczrEm4"
      },
      "source": [
        "X_train, X_test, y_train, y_test = train_test_split(\n",
        "    data, digits.target, test_size=0.5, shuffle=False)"
      ],
      "execution_count": null,
      "outputs": []
    },
    {
      "cell_type": "markdown",
      "metadata": {
        "id": "wHyEM_L_rqXJ"
      },
      "source": [
        "# Classification\n",
        "\n",
        "Once we’re done with the above steps, we will use different algorithms as classifiers, make predictions, print the ‘Classification Report’, the ‘Confusion Matrix’, and the ‘Accuracy Score’.\n",
        "The Classification Report will give us the precision, recall, f1-score, support, and accuracy, whereas the Confusion Matrix will show us the number of True Positives, False Positives, and False Negatives for each Classifier.\n",
        "We will use the following classifiers from Sklearn:\n",
        "1. Support Vector Machine\n",
        "2. Gaussian Naive Bayes\n",
        "3. Decision Trees\n",
        "4. Random Forest\n",
        "5. K Nearest Neighbors\n",
        "6. Stochastic Gradient Descent"
      ]
    },
    {
      "cell_type": "markdown",
      "metadata": {
        "id": "hQ4DiLRitcMF"
      },
      "source": [
        "# 1. Support Vector Machine\n",
        "\n",
        "Here is the code to define the SVM classifier `svm_classifier` and use it to make predictions:"
      ]
    },
    {
      "cell_type": "code",
      "metadata": {
        "colab": {
          "base_uri": "https://localhost:8080/",
          "height": 1000
        },
        "id": "lG1y2DG1riaI",
        "outputId": "28c67bb5-eb11-4d00-d432-dfc5ea20d3cc"
      },
      "source": [
        "from sklearn import svm\n",
        "svm_classifier = svm.SVC(gamma=0.001, C=100)\n",
        "svm_classifier.fit(X_train, y_train)\n",
        "svm_predicted = svm_classifier.predict(X_test)\n",
        "\n",
        "_, axes = plt.subplots(2, 4)\n",
        "images_and_labels = list(zip(digits.images, digits.target))\n",
        "for ax, (image, label) in zip(axes[0, :], images_and_labels[:4]):\n",
        "    ax.set_axis_off()\n",
        "    ax.imshow(image, cmap=plt.cm.gray_r, interpolation='nearest')\n",
        "    ax.set_title('Training: %i' % label)\n",
        "    \n",
        "images_and_predictions = list(zip(digits.images[n_samples // 2:], svm_predicted))\n",
        "for ax, (image, prediction) in zip(axes[1, :], images_and_predictions[:4]):\n",
        "    ax.set_axis_off()\n",
        "    ax.imshow(image, cmap=plt.cm.gray_r, interpolation='nearest')\n",
        "    ax.set_title('Prediction: %i' % prediction)\n",
        "\n",
        "print(\"\\nClassification report for classifier %s:\\n%s\\n\" % (svm_classifier, metrics.classification_report(y_test, svm_predicted)))\n",
        "disp = metrics.plot_confusion_matrix(svm_classifier, X_test, y_test)\n",
        "disp.figure_.suptitle(\"Confusion Matrix\")\n",
        "print(\"\\nConfusion matrix:\\n%s\" % disp.confusion_matrix)\n",
        "print(\"\\nAccuracy of the Algorithm: \", svm_classifier.score(X_test, y_test))\n",
        "print()\n",
        "plt.show()"
      ],
      "execution_count": null,
      "outputs": [
        {
          "output_type": "stream",
          "text": [
            "\n",
            "Classification report for classifier SVC(C=100, break_ties=False, cache_size=200, class_weight=None, coef0=0.0,\n",
            "    decision_function_shape='ovr', degree=3, gamma=0.001, kernel='rbf',\n",
            "    max_iter=-1, probability=False, random_state=None, shrinking=True,\n",
            "    tol=0.001, verbose=False):\n",
            "              precision    recall  f1-score   support\n",
            "\n",
            "           0       1.00      0.99      0.99        88\n",
            "           1       0.99      0.96      0.97        91\n",
            "           2       0.99      0.99      0.99        86\n",
            "           3       0.98      0.90      0.94        91\n",
            "           4       0.99      0.96      0.97        92\n",
            "           5       0.95      0.96      0.95        91\n",
            "           6       0.99      0.99      0.99        91\n",
            "           7       0.98      0.99      0.98        89\n",
            "           8       0.94      1.00      0.97        88\n",
            "           9       0.92      0.98      0.95        92\n",
            "\n",
            "    accuracy                           0.97       899\n",
            "   macro avg       0.97      0.97      0.97       899\n",
            "weighted avg       0.97      0.97      0.97       899\n",
            "\n",
            "\n",
            "\n",
            "Confusion matrix:\n",
            "[[87  0  0  0  1  0  0  0  0  0]\n",
            " [ 0 87  1  0  0  0  0  0  2  1]\n",
            " [ 0  0 85  1  0  0  0  0  0  0]\n",
            " [ 0  0  0 82  0  3  0  2  4  0]\n",
            " [ 0  0  0  0 88  0  0  0  0  4]\n",
            " [ 0  0  0  0  0 87  1  0  0  3]\n",
            " [ 0  1  0  0  0  0 90  0  0  0]\n",
            " [ 0  0  0  0  0  1  0 88  0  0]\n",
            " [ 0  0  0  0  0  0  0  0 88  0]\n",
            " [ 0  0  0  1  0  1  0  0  0 90]]\n",
            "\n",
            "Accuracy of the Algorithm:  0.9699666295884316\n",
            "\n"
          ],
          "name": "stdout"
        },
        {
          "output_type": "display_data",
          "data": {
            "image/png": "[encoded data removed]",
            "text/plain": [
              "<Figure size 432x288 with 8 Axes>"
            ]
          },
          "metadata": {
            "tags": [],
            "needs_background": "light"
          }
        },
        {
          "output_type": "display_data",
          "data": {
            "image/png": "[encoded data removed]",
            "text/plain": [
              "<Figure size 432x288 with 2 Axes>"
            ]
          },
          "metadata": {
            "tags": [],
            "needs_background": "light"
          }
        }
      ]
    },
    {
      "cell_type": "markdown",
      "metadata": {
        "id": "w6nGaHj-uBfU"
      },
      "source": [
        "The SVM Classifier gives an Accuracy of 0.9699!"
      ]
    },
    {
      "cell_type": "markdown",
      "metadata": {
        "id": "tB2i0CKWuJEn"
      },
      "source": [
        "# 2. Gaussian Naive Bayes\n",
        "Next, we will define the Gaussian Naive Bayes as the classifier — `GNB_classifier`:"
      ]
    },
    {
      "cell_type": "code",
      "metadata": {
        "colab": {
          "base_uri": "https://localhost:8080/",
          "height": 1000
        },
        "id": "WbUt9uOatvRy",
        "outputId": "323883bc-b412-4f1d-f3ca-f0da940a2430"
      },
      "source": [
        "from sklearn.naive_bayes import GaussianNB\n",
        "GNB_classifier = GaussianNB()\n",
        "GNB_classifier.fit(X_train, y_train)\n",
        "GNB_predicted = GNB_classifier.predict(X_test)\n",
        "\n",
        "_, axes = plt.subplots(2, 4)\n",
        "images_and_labels = list(zip(digits.images, digits.target))\n",
        "for ax, (image, label) in zip(axes[0, :], images_and_labels[:4]):\n",
        "    ax.set_axis_off()\n",
        "    ax.imshow(image, cmap=plt.cm.gray_r, interpolation='nearest')\n",
        "    ax.set_title('Training: %i' % label)\n",
        "    \n",
        "images_and_predictions = list(zip(digits.images[n_samples // 2:], GNB_predicted))\n",
        "for ax, (image, prediction) in zip(axes[1, :], images_and_predictions[:4]):\n",
        "    ax.set_axis_off()\n",
        "    ax.imshow(image, cmap=plt.cm.gray_r, interpolation='nearest')\n",
        "    ax.set_title('Prediction: %i' % prediction)\n",
        "\n",
        "print(\"\\nClassification report for classifier %s:\\n%s\\n\" % (GNB_classifier, metrics.classification_report(y_test, GNB_predicted)))\n",
        "disp = metrics.plot_confusion_matrix(GNB_classifier, X_test, y_test)\n",
        "disp.figure_.suptitle(\"Confusion Matrix\")\n",
        "print(\"\\nConfusion matrix:\\n%s\" % disp.confusion_matrix)\n",
        "print(\"\\nAccuracy of the Algorithm: \", GNB_classifier.score(X_test, y_test))\n",
        "print()\n",
        "plt.show()"
      ],
      "execution_count": null,
      "outputs": [
        {
          "output_type": "stream",
          "text": [
            "\n",
            "Classification report for classifier GaussianNB(priors=None, var_smoothing=1e-09):\n",
            "              precision    recall  f1-score   support\n",
            "\n",
            "           0       0.98      0.95      0.97        88\n",
            "           1       0.81      0.74      0.77        91\n",
            "           2       0.87      0.84      0.85        86\n",
            "           3       0.88      0.79      0.83        91\n",
            "           4       1.00      0.73      0.84        92\n",
            "           5       0.70      0.81      0.76        91\n",
            "           6       0.96      0.99      0.97        91\n",
            "           7       0.65      0.81      0.72        89\n",
            "           8       0.61      0.76      0.68        88\n",
            "           9       0.77      0.66      0.71        92\n",
            "\n",
            "    accuracy                           0.81       899\n",
            "   macro avg       0.82      0.81      0.81       899\n",
            "weighted avg       0.82      0.81      0.81       899\n",
            "\n",
            "\n",
            "\n",
            "Confusion matrix:\n",
            "[[84  0  0  0  0  2  0  0  1  1]\n",
            " [ 0 67  2  0  0  0  0  2 13  7]\n",
            " [ 0  8 72  0  0  1  2  0  3  0]\n",
            " [ 0  2  2 72  0  2  0  2  9  2]\n",
            " [ 1  0  0  0 67  0  0 22  1  1]\n",
            " [ 0  2  0  4  0 74  1  3  2  5]\n",
            " [ 0  1  0  0  0  0 90  0  0  0]\n",
            " [ 0  0  2  0  0 12  0 72  2  1]\n",
            " [ 0  2  5  0  0  9  0  4 67  1]\n",
            " [ 1  1  0  6  0  5  1  6 11 61]]\n",
            "\n",
            "Accuracy of the Algorithm:  0.8075639599555061\n",
            "\n"
          ],
          "name": "stdout"
        },
        {
          "output_type": "display_data",
          "data": {
            "image/png": "[encoded data removed]",
            "text/plain": [
              "<Figure size 432x288 with 8 Axes>"
            ]
          },
          "metadata": {
            "tags": [],
            "needs_background": "light"
          }
        },
        {
          "output_type": "display_data",
          "data": {
            "image/png": "[encoded data removed]",
            "text/plain": [
              "<Figure size 432x288 with 2 Axes>"
            ]
          },
          "metadata": {
            "tags": [],
            "needs_background": "light"
          }
        }
      ]
    },
    {
      "cell_type": "markdown",
      "metadata": {
        "id": "tE2TXsYSua0x"
      },
      "source": [
        "The accuracy of the Gaussian Naive Bayes Classifier was found out to be 0.8075. Gaussian Naive Bayes Classifier is less accurate than the SVM Classifier (0.9688) when it comes to recognizing handwritten digits."
      ]
    },
    {
      "cell_type": "markdown",
      "metadata": {
        "id": "SL91zqrKue5y"
      },
      "source": [
        "# 3. Decision Trees\n",
        "Following is the code for defining the decision tree classifier dt_classifier and using it for making predictions:"
      ]
    },
    {
      "cell_type": "code",
      "metadata": {
        "colab": {
          "base_uri": "https://localhost:8080/",
          "height": 1000
        },
        "id": "kGkFMjTcuTT2",
        "outputId": "676566ca-b709-4f19-f035-1523ab8d8b75"
      },
      "source": [
        "from sklearn import tree\n",
        "dt_classifier = tree.DecisionTreeClassifier()\n",
        "dt_classifier.fit(X_train, y_train)\n",
        "dt_predicted = dt_classifier.predict(X_test)\n",
        "\n",
        "_, axes = plt.subplots(2, 4)\n",
        "images_and_labels = list(zip(digits.images, digits.target))\n",
        "for ax, (image, label) in zip(axes[0, :], images_and_labels[:4]):\n",
        "    ax.set_axis_off()\n",
        "    ax.imshow(image, cmap=plt.cm.gray_r, interpolation='nearest')\n",
        "    ax.set_title('Training: %i' % label)\n",
        "    \n",
        "images_and_predictions = list(zip(digits.images[n_samples // 2:], dt_predicted))\n",
        "\n",
        "for ax, (image, prediction) in zip(axes[1, :], images_and_predictions[:4]):\n",
        "    ax.set_axis_off()\n",
        "    ax.imshow(image, cmap=plt.cm.gray_r, interpolation='nearest')\n",
        "    ax.set_title('Prediction: %i' % prediction)\n",
        "\n",
        "print(\"\\nClassification report for classifier %s:\\n%s\\n\" % (dt_classifier, metrics.classification_report(y_test, dt_predicted)))\n",
        "disp = metrics.plot_confusion_matrix(dt_classifier, X_test, y_test)\n",
        "disp.figure_.suptitle(\"Confusion Matrix\")\n",
        "print(\"\\nConfusion matrix:\\n%s\" % disp.confusion_matrix)\n",
        "print(\"\\nAccuracy of the Algorithm: \", dt_classifier.score(X_test, y_test))\n",
        "print()\n",
        "plt.show()"
      ],
      "execution_count": null,
      "outputs": [
        {
          "output_type": "stream",
          "text": [
            "\n",
            "Classification report for classifier DecisionTreeClassifier(ccp_alpha=0.0, class_weight=None, criterion='gini',\n",
            "                       max_depth=None, max_features=None, max_leaf_nodes=None,\n",
            "                       min_impurity_decrease=0.0, min_impurity_split=None,\n",
            "                       min_samples_leaf=1, min_samples_split=2,\n",
            "                       min_weight_fraction_leaf=0.0, presort='deprecated',\n",
            "                       random_state=None, splitter='best'):\n",
            "              precision    recall  f1-score   support\n",
            "\n",
            "           0       0.92      0.90      0.91        88\n",
            "           1       0.80      0.60      0.69        91\n",
            "           2       0.89      0.74      0.81        86\n",
            "           3       0.73      0.73      0.73        91\n",
            "           4       0.86      0.78      0.82        92\n",
            "           5       0.60      0.74      0.66        91\n",
            "           6       0.86      0.95      0.90        91\n",
            "           7       0.88      0.79      0.83        89\n",
            "           8       0.59      0.66      0.62        88\n",
            "           9       0.65      0.76      0.70        92\n",
            "\n",
            "    accuracy                           0.76       899\n",
            "   macro avg       0.78      0.76      0.77       899\n",
            "weighted avg       0.78      0.76      0.77       899\n",
            "\n",
            "\n",
            "\n",
            "Confusion matrix:\n",
            "[[79  0  0  0  3  3  0  0  1  2]\n",
            " [ 0 55  3  7  4  0  1  2 13  6]\n",
            " [ 1  3 64  9  0  1  3  0  4  1]\n",
            " [ 0  4  2 66  0  3  0  5  8  3]\n",
            " [ 6  3  0  0 72  4  1  1  0  5]\n",
            " [ 0  1  0  0  0 67  4  0  3 16]\n",
            " [ 0  1  1  1  1  0 86  0  1  0]\n",
            " [ 0  0  0  2  2  8  0 70  6  1]\n",
            " [ 0  1  2  3  2 12  5  2 58  3]\n",
            " [ 0  1  0  3  0 14  0  0  4 70]]\n",
            "\n",
            "Accuracy of the Algorithm:  0.764182424916574\n",
            "\n"
          ],
          "name": "stdout"
        },
        {
          "output_type": "display_data",
          "data": {
            "image/png": "[encoded data removed]",
            "text/plain": [
              "<Figure size 432x288 with 8 Axes>"
            ]
          },
          "metadata": {
            "tags": [],
            "needs_background": "light"
          }
        },
        {
          "output_type": "display_data",
          "data": {
            "image/png": "[encoded data removed]",
            "text/plain": [
              "<Figure size 432x288 with 2 Axes>"
            ]
          },
          "metadata": {
            "tags": [],
            "needs_background": "light"
          }
        }
      ]
    },
    {
      "cell_type": "markdown",
      "metadata": {
        "id": "VpTB-VGnuvtA"
      },
      "source": [
        "The Decision Tree Classifier had an even lower accuracy score = 0.7597."
      ]
    },
    {
      "cell_type": "markdown",
      "metadata": {
        "id": "uf6_1HhKuzHv"
      },
      "source": [
        "# 4. Random Forest\n",
        "Let us try using the Random Forest Classifier from sklearn. The classifier is defined as RF_classifier in the code below:"
      ]
    },
    {
      "cell_type": "code",
      "metadata": {
        "colab": {
          "base_uri": "https://localhost:8080/",
          "height": 1000
        },
        "id": "bu52fL-2uq7F",
        "outputId": "cb48dafa-9372-499d-c3e1-b20dcb286fdd"
      },
      "source": [
        "from sklearn.ensemble import RandomForestClassifier\n",
        "RF_classifier = RandomForestClassifier(max_depth=2, random_state=0)\n",
        "RF_classifier.fit(X_train, y_train)\n",
        "RF_predicted = RF_classifier.predict(X_test)\n",
        "\n",
        "_, axes = plt.subplots(2, 4)\n",
        "images_and_labels = list(zip(digits.images, digits.target))\n",
        "for ax, (image, label) in zip(axes[0, :], images_and_labels[:4]):\n",
        "    ax.set_axis_off()\n",
        "    ax.imshow(image, cmap=plt.cm.gray_r, interpolation='nearest')\n",
        "    ax.set_title('Training: %i' % label)\n",
        "    \n",
        "images_and_predictions = list(zip(digits.images[n_samples // 2:], RF_predicted))\n",
        "\n",
        "for ax, (image, prediction) in zip(axes[1, :], images_and_predictions[:4]):\n",
        "    ax.set_axis_off()\n",
        "    ax.imshow(image, cmap=plt.cm.gray_r, interpolation='nearest')\n",
        "    ax.set_title('Prediction: %i' % prediction)\n",
        "\n",
        "print(\"\\nClassification report for classifier %s:\\n%s\\n\" % (RF_classifier, metrics.classification_report(y_test, RF_predicted)))\n",
        "disp = metrics.plot_confusion_matrix(RF_classifier, X_test, y_test)\n",
        "disp.figure_.suptitle(\"Confusion Matrix\")\n",
        "print(\"\\nConfusion matrix:\\n%s\" % disp.confusion_matrix)\n",
        "print(\"\\nAccuracy of the Algorithm: \", RF_classifier.score(X_test, y_test))\n",
        "print()\n",
        "plt.show()"
      ],
      "execution_count": null,
      "outputs": [
        {
          "output_type": "stream",
          "text": [
            "\n",
            "Classification report for classifier RandomForestClassifier(bootstrap=True, ccp_alpha=0.0, class_weight=None,\n",
            "                       criterion='gini', max_depth=2, max_features='auto',\n",
            "                       max_leaf_nodes=None, max_samples=None,\n",
            "                       min_impurity_decrease=0.0, min_impurity_split=None,\n",
            "                       min_samples_leaf=1, min_samples_split=2,\n",
            "                       min_weight_fraction_leaf=0.0, n_estimators=100,\n",
            "                       n_jobs=None, oob_score=False, random_state=0, verbose=0,\n",
            "                       warm_start=False):\n",
            "              precision    recall  f1-score   support\n",
            "\n",
            "           0       0.87      0.99      0.93        88\n",
            "           1       0.90      0.42      0.57        91\n",
            "           2       0.66      0.80      0.72        86\n",
            "           3       0.55      0.82      0.66        91\n",
            "           4       0.91      0.82      0.86        92\n",
            "           5       0.74      0.62      0.67        91\n",
            "           6       0.87      0.99      0.93        91\n",
            "           7       0.70      1.00      0.82        89\n",
            "           8       0.92      0.26      0.41        88\n",
            "           9       0.74      0.82      0.77        92\n",
            "\n",
            "    accuracy                           0.75       899\n",
            "   macro avg       0.79      0.75      0.73       899\n",
            "weighted avg       0.79      0.75      0.73       899\n",
            "\n",
            "\n",
            "\n",
            "Confusion matrix:\n",
            "[[87  0  0  0  1  0  0  0  0  0]\n",
            " [ 0 38  6 13  4  8  0 11  2  9]\n",
            " [ 1  0 69 13  0  0  0  2  0  1]\n",
            " [ 1  0  7 75  0  0  1  6  0  1]\n",
            " [ 7  0  0  0 75  1  6  3  0  0]\n",
            " [ 1  0  0 14  1 56  6  1  0 12]\n",
            " [ 0  0  1  0  0  0 90  0  0  0]\n",
            " [ 0  0  0  0  0  0  0 89  0  0]\n",
            " [ 1  4 21 14  1  8  0 12 23  4]\n",
            " [ 2  0  1  7  0  3  0  4  0 75]]\n",
            "\n",
            "Accuracy of the Algorithm:  0.7530589543937709\n",
            "\n"
          ],
          "name": "stdout"
        },
        {
          "output_type": "display_data",
          "data": {
            "image/png": "[encoded data removed]",
            "text/plain": [
              "<Figure size 432x288 with 8 Axes>"
            ]
          },
          "metadata": {
            "tags": [],
            "needs_background": "light"
          }
        },
        {
          "output_type": "display_data",
          "data": {
            "image/png": "[encoded data removed]",
            "text/plain": [
              "<Figure size 432x288 with 2 Axes>"
            ]
          },
          "metadata": {
            "tags": [],
            "needs_background": "light"
          }
        }
      ]
    },
    {
      "cell_type": "markdown",
      "metadata": {
        "id": "oK60ag8ivGgd"
      },
      "source": [
        "The accuracy score of the Random Forest Classifier is 0.7530 — nearly that of the Decision Tree Classifier."
      ]
    },
    {
      "cell_type": "markdown",
      "metadata": {
        "id": "H-12JML8vSbH"
      },
      "source": [
        "# 5. K Nearest Neighbors (KNN)\n",
        "Our next classifier is defined by using KNN classification algorithm KNN_classifier:"
      ]
    },
    {
      "cell_type": "code",
      "metadata": {
        "colab": {
          "base_uri": "https://localhost:8080/",
          "height": 1000
        },
        "id": "8jsl1tJxu9HK",
        "outputId": "7f85b2ca-fbfc-43dd-a884-81d8871786c7"
      },
      "source": [
        "from sklearn.neighbors import KNeighborsClassifier\n",
        "KNN_classifier = KNeighborsClassifier(n_neighbors=5, metric='euclidean')\n",
        "KNN_classifier.fit(X_train, y_train)\n",
        "KNN_predicted = KNN_classifier.predict(X_test)\n",
        "\n",
        "_, axes = plt.subplots(2, 4)\n",
        "images_and_labels = list(zip(digits.images, digits.target))\n",
        "for ax, (image, label) in zip(axes[0, :], images_and_labels[:4]):\n",
        "    ax.set_axis_off()\n",
        "    ax.imshow(image, cmap=plt.cm.gray_r, interpolation='nearest')\n",
        "    ax.set_title('Training: %i' % label)\n",
        "    \n",
        "images_and_predictions = list(zip(digits.images[n_samples // 2:], KNN_predicted))\n",
        "\n",
        "for ax, (image, prediction) in zip(axes[1, :], images_and_predictions[:4]):\n",
        "    ax.set_axis_off()\n",
        "    ax.imshow(image, cmap=plt.cm.gray_r, interpolation='nearest')\n",
        "    ax.set_title('Prediction: %i' % prediction)\n",
        "\n",
        "print(\"\\nClassification report for classifier %s:\\n%s\\n\" % (KNN_classifier, metrics.classification_report(y_test, KNN_predicted)))\n",
        "disp = metrics.plot_confusion_matrix(KNN_classifier, X_test, y_test)\n",
        "disp.figure_.suptitle(\"Confusion Matrix\")\n",
        "print(\"\\nConfusion matrix:\\n%s\" % disp.confusion_matrix)\n",
        "print(\"\\nAccuracy of the Algorithm: \", KNN_classifier.score(X_test, y_test))\n",
        "print()\n",
        "plt.show()"
      ],
      "execution_count": null,
      "outputs": [
        {
          "output_type": "stream",
          "text": [
            "\n",
            "Classification report for classifier KNeighborsClassifier(algorithm='auto', leaf_size=30, metric='euclidean',\n",
            "                     metric_params=None, n_jobs=None, n_neighbors=5, p=2,\n",
            "                     weights='uniform'):\n",
            "              precision    recall  f1-score   support\n",
            "\n",
            "           0       0.99      1.00      0.99        88\n",
            "           1       0.95      0.98      0.96        91\n",
            "           2       0.98      0.93      0.95        86\n",
            "           3       0.89      0.90      0.90        91\n",
            "           4       1.00      0.95      0.97        92\n",
            "           5       0.96      0.98      0.97        91\n",
            "           6       0.99      1.00      0.99        91\n",
            "           7       0.95      1.00      0.97        89\n",
            "           8       0.95      0.90      0.92        88\n",
            "           9       0.91      0.92      0.92        92\n",
            "\n",
            "    accuracy                           0.96       899\n",
            "   macro avg       0.96      0.96      0.96       899\n",
            "weighted avg       0.96      0.96      0.96       899\n",
            "\n",
            "\n",
            "\n",
            "Confusion matrix:\n",
            "[[88  0  0  0  0  0  0  0  0  0]\n",
            " [ 0 89  0  0  0  0  0  0  1  1]\n",
            " [ 1  0 80  5  0  0  0  0  0  0]\n",
            " [ 0  0  1 82  0  2  0  3  2  1]\n",
            " [ 0  0  0  0 87  0  0  1  0  4]\n",
            " [ 0  0  0  0  0 89  1  0  0  1]\n",
            " [ 0  0  0  0  0  0 91  0  0  0]\n",
            " [ 0  0  0  0  0  0  0 89  0  0]\n",
            " [ 0  5  1  1  0  0  0  1 79  1]\n",
            " [ 0  0  0  4  0  2  0  0  1 85]]\n",
            "\n",
            "Accuracy of the Algorithm:  0.9555061179087876\n",
            "\n"
          ],
          "name": "stdout"
        },
        {
          "output_type": "display_data",
          "data": {
            "image/png": "[encoded data removed]",
            "text/plain": [
              "<Figure size 432x288 with 8 Axes>"
            ]
          },
          "metadata": {
            "tags": [],
            "needs_background": "light"
          }
        },
        {
          "output_type": "display_data",
          "data": {
            "image/png": "[encoded data removed]",
            "text/plain": [
              "<Figure size 432x288 with 2 Axes>"
            ]
          },
          "metadata": {
            "tags": [],
            "needs_background": "light"
          }
        }
      ]
    },
    {
      "cell_type": "markdown",
      "metadata": {
        "id": "gcPqqOKdveX3"
      },
      "source": [
        "# 6. Stochastic Gradient Descent\n",
        "Let us try Stochastic Gradient Descent as our classifier sgd_classifier:"
      ]
    },
    {
      "cell_type": "code",
      "metadata": {
        "colab": {
          "base_uri": "https://localhost:8080/",
          "height": 1000
        },
        "id": "_Z1ZAAnxvZb9",
        "outputId": "3c50ed8c-dbb6-45c6-b50f-847f42e67623"
      },
      "source": [
        "from sklearn.linear_model import SGDClassifier\n",
        "sgd_classifier = SGDClassifier(loss=\"hinge\", penalty=\"l2\", max_iter=5)\n",
        "sgd_classifier.fit(X_train, y_train)\n",
        "sgd_predicted = sgd_classifier.predict(X_test)\n",
        "\n",
        "_, axes = plt.subplots(2, 4)\n",
        "images_and_labels = list(zip(digits.images, digits.target))\n",
        "for ax, (image, label) in zip(axes[0, :], images_and_labels[:4]):\n",
        "    ax.set_axis_off()\n",
        "    ax.imshow(image, cmap=plt.cm.gray_r, interpolation='nearest')\n",
        "    ax.set_title('Training: %i' % label)\n",
        "    \n",
        "images_and_predictions = list(zip(digits.images[n_samples // 2:], sgd_predicted))\n",
        "\n",
        "for ax, (image, prediction) in zip(axes[1, :], images_and_predictions[:4]):\n",
        "    ax.set_axis_off()\n",
        "    ax.imshow(image, cmap=plt.cm.gray_r, interpolation='nearest')\n",
        "    ax.set_title('Prediction: %i' % prediction)\n",
        "\n",
        "print(\"\\nClassification report for classifier %s:\\n%s\\n\" % (sgd_classifier, metrics.classification_report(y_test, sgd_predicted)))\n",
        "disp = metrics.plot_confusion_matrix(sgd_classifier, X_test, y_test)\n",
        "disp.figure_.suptitle(\"Confusion Matrix\")\n",
        "print(\"\\nConfusion matrix:\\n%s\" % disp.confusion_matrix)\n",
        "print(\"\\nAccuracy of the Algorithm: \", sgd_classifier.score(X_test, y_test))\n",
        "print()\n",
        "plt.show()"
      ],
      "execution_count": null,
      "outputs": [
        {
          "output_type": "stream",
          "text": [
            "/usr/local/lib/python3.7/dist-packages/sklearn/linear_model/_stochastic_gradient.py:557: ConvergenceWarning: Maximum number of iteration reached before convergence. Consider increasing max_iter to improve the fit.\n",
            "  ConvergenceWarning)\n"
          ],
          "name": "stderr"
        },
        {
          "output_type": "stream",
          "text": [
            "\n",
            "Classification report for classifier SGDClassifier(alpha=0.0001, average=False, class_weight=None,\n",
            "              early_stopping=False, epsilon=0.1, eta0=0.0, fit_intercept=True,\n",
            "              l1_ratio=0.15, learning_rate='optimal', loss='hinge', max_iter=5,\n",
            "              n_iter_no_change=5, n_jobs=None, penalty='l2', power_t=0.5,\n",
            "              random_state=None, shuffle=True, tol=0.001,\n",
            "              validation_fraction=0.1, verbose=0, warm_start=False):\n",
            "              precision    recall  f1-score   support\n",
            "\n",
            "           0       0.93      0.95      0.94        88\n",
            "           1       0.90      0.84      0.87        91\n",
            "           2       0.95      0.94      0.95        86\n",
            "           3       0.97      0.77      0.86        91\n",
            "           4       0.96      0.88      0.92        92\n",
            "           5       0.84      0.86      0.85        91\n",
            "           6       0.94      0.99      0.96        91\n",
            "           7       1.00      0.91      0.95        89\n",
            "           8       0.92      0.76      0.83        88\n",
            "           9       0.62      0.95      0.75        92\n",
            "\n",
            "    accuracy                           0.88       899\n",
            "   macro avg       0.90      0.88      0.89       899\n",
            "weighted avg       0.90      0.88      0.89       899\n",
            "\n",
            "\n",
            "\n",
            "Confusion matrix:\n",
            "[[84  0  0  0  1  1  1  0  0  1]\n",
            " [ 0 76  0  0  1  1  1  0  0 12]\n",
            " [ 2  0 81  0  0  0  0  0  0  3]\n",
            " [ 0  4  2 70  0  4  0  0  4  7]\n",
            " [ 4  1  0  0 81  0  2  0  0  4]\n",
            " [ 0  0  0  0  0 78  1  0  0 12]\n",
            " [ 0  0  1  0  0  0 90  0  0  0]\n",
            " [ 0  1  0  0  1  1  0 81  0  5]\n",
            " [ 0  2  1  1  0  6  1  0 67 10]\n",
            " [ 0  0  0  1  0  2  0  0  2 87]]\n",
            "\n",
            "Accuracy of the Algorithm:  0.8843159065628476\n",
            "\n"
          ],
          "name": "stdout"
        },
        {
          "output_type": "display_data",
          "data": {
            "image/png": "[encoded data removed]",
            "text/plain": [
              "<Figure size 432x288 with 8 Axes>"
            ]
          },
          "metadata": {
            "tags": [],
            "needs_background": "light"
          }
        },
        {
          "output_type": "display_data",
          "data": {
            "image/png": "[encoded data removed]",
            "text/plain": [
              "<Figure size 432x288 with 2 Axes>"
            ]
          },
          "metadata": {
            "tags": [],
            "needs_background": "light"
          }
        }
      ]
    },
    {
      "cell_type": "markdown",
      "metadata": {
        "id": "Beb_5E7M-Up0"
      },
      "source": [
        "The Stochastic Gradient Descent Algorithm gives us an accuracy score of 0.9143."
      ]
    },
    {
      "cell_type": "code",
      "metadata": {
        "colab": {
          "base_uri": "https://localhost:8080/"
        },
        "id": "BdhFxf-vvlER",
        "outputId": "445cfc01-ba00-4b2d-fda6-1ccdae215d22"
      },
      "source": [
        "import pandas as pd\n",
        "\n",
        "accuracy_score = pd.DataFrame({\n",
        "    \"Classifier\": [\"SVM\", \"KNN\", \"Stochastic Gradient Descent\", \"Gaussian Naive Bayes\", \"Random Forest\", \"Decision Trees\"],\n",
        "    \"Accuracy\": [svm_classifier.score(X_test, y_test),\n",
        "                 KNN_classifier.score(X_test, y_test),\n",
        "                 sgd_classifier.score(X_test, y_test),\n",
        "                 GNB_classifier.score(X_test, y_test),\n",
        "                 RF_classifier.score(X_test, y_test),\n",
        "                 dt_classifier.score(X_test, y_test)]\n",
        "})\n",
        "\n",
        "print(accuracy_score.sort_values(by=['Accuracy'], ascending=False))"
      ],
      "execution_count": null,
      "outputs": [
        {
          "output_type": "stream",
          "text": [
            "                    Classifier  Accuracy\n",
            "0                          SVM  0.969967\n",
            "1                          KNN  0.955506\n",
            "2  Stochastic Gradient Descent  0.884316\n",
            "3         Gaussian Naive Bayes  0.807564\n",
            "5               Decision Trees  0.764182\n",
            "4                Random Forest  0.753059\n"
          ],
          "name": "stdout"
        }
      ]
    },
    {
      "cell_type": "markdown",
      "metadata": {
        "id": "1sM0qVdiSZFk"
      },
      "source": [
        "In terms of accuracy score, the SVM classifier was the most accurate, whereas Random Forest were the least!"
      ]
    },
    {
      "cell_type": "markdown",
      "metadata": {
        "id": "tWlR5GX3Sxns"
      },
      "source": [
        "Now let us come to the F1- score. Again, the SVM has the highest F1-Score:"
      ]
    },
    {
      "cell_type": "code",
      "metadata": {
        "colab": {
          "base_uri": "https://localhost:8080/"
        },
        "id": "Dy1vkQRsN6wm",
        "outputId": "7b741529-16bd-4de7-8b36-0a72e39de6f7"
      },
      "source": [
        "from sklearn.metrics import f1_score\n",
        "\n",
        "f1_score = pd.DataFrame({\n",
        "    \"Classifier\": [\"SVM\", \"KNN\", \"Stochastic Gradient Descent\", \"Gaussian Naive Bayes\", \"Random Forest\", \"Decision Trees\"],\n",
        "    \"F1 Score\": [f1_score(y_test, svm_predicted, average='weighted'),\n",
        "                 f1_score(y_test, KNN_predicted, average='weighted'),\n",
        "                 f1_score(y_test, sgd_predicted, average='weighted'),\n",
        "                 f1_score(y_test, GNB_predicted, average='weighted'),\n",
        "                 f1_score(y_test, RF_predicted, average='weighted'),\n",
        "                 f1_score(y_test, dt_predicted, average='weighted')]\n",
        "})\n",
        "\n",
        "print(f1_score.sort_values(by=['F1 Score'], ascending=False))"
      ],
      "execution_count": null,
      "outputs": [
        {
          "output_type": "stream",
          "text": [
            "                    Classifier  F1 Score\n",
            "0                          SVM  0.969948\n",
            "1                          KNN  0.955395\n",
            "2  Stochastic Gradient Descent  0.887558\n",
            "3         Gaussian Naive Bayes  0.810272\n",
            "5               Decision Trees  0.766145\n",
            "4                Random Forest  0.734650\n"
          ],
          "name": "stdout"
        }
      ]
    },
    {
      "cell_type": "markdown",
      "metadata": {
        "id": "EmyDEQjlS4go"
      },
      "source": [
        "Hence, we conclude that both in terms of accuracy score and F1-score, the SVM classifier performed the best."
      ]
    }
  ]
}